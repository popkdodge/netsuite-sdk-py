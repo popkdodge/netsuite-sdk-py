{
 "cells": [
  {
   "cell_type": "code",
   "execution_count": 1,
   "metadata": {},
   "outputs": [],
   "source": [
    "from netsuitesdk2 import NetSuiteConnection\n",
    "import json"
   ]
  },
  {
   "cell_type": "code",
   "execution_count": 2,
   "metadata": {},
   "outputs": [],
   "source": [
    "#Import Secrets\n",
    "\n",
    "get_secrets = '{\"NS_CONSUMER_KEY\": \"7f7442e79f25ffbd513166ffdd2c5c5db8077c73fbadd96cb3b3ed54643d420d\", \"NS_CONSUMER_SECRET\": \"a00604560403b093cc79fd88ffce2c9032fdc10f74f036c045298b383aa4a546\", \"NS_TOKEN_ID\": \"c521d3cb754d13189d9bf661a00729d5276c639f7101313a1c4b85e81682409b\", \"NS_TOKEN_SECRET\": \"3926130a8688b4512160676c36e5a33d64b92731302b484ba7c7cf8dcec16c96\", \"NETSUITE_ACCOUNT_ID\": \"4828879\", \"TEST_CONSUMER_KEY\": \"8b26283535c09ac458b294e405c6522be1679ad162128b0a8715515de086ac2c\", \"TEST_CONSUMER_SECRET\": \"ee74126313f614307c29516c877aef8dcc71660ce632158e9554a94aba3a1b9d\", \"TEST_TOKEN_ID\": \"003500b18b9714930c22dc7181469b02c1eebee8d593e26c1aada5ee4741aabb\", \"TEST_TOKEN_SECRET\": \"f378999dfc0506bfe1403e2e4443be4ba3322feb122e79981a23292859431675\", \"TEST_ACCOUNT_ID\": \"4828879_SB1\"}'\n",
    "\n",
    "\n",
    "secrets = json.loads(get_secrets)\n",
    "\n",
    "# Production\n",
    "NS_CONSUMER_KEY = secrets['NS_CONSUMER_KEY']\n",
    "NS_CONSUMER_SECRET = secrets['NS_CONSUMER_SECRET']\n",
    "NS_TOKEN_ID = secrets['NS_TOKEN_ID']\n",
    "NS_TOKEN_SECRET = secrets['NS_TOKEN_SECRET']\n",
    "NETSUITE_ACCOUNT_ID = secrets['NETSUITE_ACCOUNT_ID']\n",
    "\n",
    "# Sandbox\n",
    "TEST_CONSUMER_KEY = secrets['TEST_CONSUMER_KEY']\n",
    "TEST_CONSUMER_SECRET = secrets['TEST_CONSUMER_SECRET']\n",
    "TEST_TOKEN_ID = secrets['TEST_TOKEN_ID']\n",
    "TEST_TOKEN_SECRET = secrets['TEST_TOKEN_SECRET']\n",
    "TEST_ACCOUNT_ID = secrets['TEST_ACCOUNT_ID']\n",
    "\n",
    "\n",
    "def connect(modes: str):\n",
    "    if modes.lower() == 'test':\n",
    "\n",
    "        nc = NetSuiteConnection(\n",
    "        account=TEST_ACCOUNT_ID,\n",
    "        consumer_key=TEST_CONSUMER_KEY,\n",
    "        consumer_secret=TEST_CONSUMER_SECRET,\n",
    "        token_key=TEST_TOKEN_ID,\n",
    "        token_secret=TEST_TOKEN_SECRET,\n",
    "        caching=False\n",
    "        )\n",
    "        try:\n",
    "            return nc\n",
    "        except:\n",
    "            return \"Connection Failed :(\"\n",
    "\n",
    "    elif modes.lower() == 'production':\n",
    "\n",
    "        nc = NetSuiteConnection(\n",
    "            account=NETSUITE_ACCOUNT_ID,\n",
    "            consumer_key=NS_CONSUMER_KEY,\n",
    "            consumer_secret=NS_CONSUMER_SECRET,\n",
    "            token_key=NS_TOKEN_ID,\n",
    "            token_secret=NS_TOKEN_SECRET,\n",
    "            caching=False\n",
    "        )\n",
    "        \n",
    "        try:\n",
    "            return nc\n",
    "\n",
    "        except:\n",
    "            return \"Connection Failed :(\"\n",
    "\n",
    "    else:\n",
    "        return \"Invalid modes selection! Choose either 'production' or 'test'.\"\n",
    "\n",
    "    return \"Something went wrong. Try again.\""
   ]
  },
  {
   "cell_type": "code",
   "execution_count": 3,
   "metadata": {},
   "outputs": [],
   "source": [
    "connection = connect('PRODUCTION')"
   ]
  },
  {
   "cell_type": "code",
   "execution_count": 4,
   "metadata": {},
   "outputs": [],
   "source": [
    "connection.client.set_search_preferences(page_size=1000)"
   ]
  },
  {
   "cell_type": "code",
   "execution_count": 5,
   "metadata": {},
   "outputs": [],
   "source": [
    "itemsearchrecord = connection.client.search_factory_adv('Item')"
   ]
  },
  {
   "cell_type": "code",
   "execution_count": 6,
   "metadata": {},
   "outputs": [],
   "source": [
    "itemsearchrecord.savedSearchId = '1509'"
   ]
  },
  {
   "cell_type": "code",
   "execution_count": 7,
   "metadata": {},
   "outputs": [],
   "source": [
    "itemsearchrecord.savedSearchScriptId='customsearch_gumps_ccc_item_export_3'"
   ]
  },
  {
   "cell_type": "code",
   "execution_count": 8,
   "metadata": {},
   "outputs": [
    {
     "data": {
      "text/plain": [
       "{\n",
       "    'criteria': None,\n",
       "    'columns': None,\n",
       "    'savedSearchId': '1509',\n",
       "    'savedSearchScriptId': 'customsearch_gumps_ccc_item_export_3'\n",
       "}"
      ]
     },
     "execution_count": 8,
     "metadata": {},
     "output_type": "execute_result"
    }
   ],
   "source": [
    "itemsearchrecord"
   ]
  },
  {
   "cell_type": "code",
   "execution_count": 9,
   "metadata": {},
   "outputs": [],
   "source": [
    "result = connection.client.search(itemsearchrecord)"
   ]
  },
  {
   "cell_type": "code",
   "execution_count": 10,
   "metadata": {},
   "outputs": [
    {
     "data": {
      "text/plain": [
       "'WEBSERVICES_4828879_082620226385598391632571297_d7dc402c85e7'"
      ]
     },
     "execution_count": 10,
     "metadata": {},
     "output_type": "execute_result"
    }
   ],
   "source": [
    "result.searchId"
   ]
  },
  {
   "cell_type": "code",
   "execution_count": 121,
   "metadata": {},
   "outputs": [
    {
     "data": {
      "text/plain": [
       "dict"
      ]
     },
     "execution_count": 121,
     "metadata": {},
     "output_type": "execute_result"
    }
   ],
   "source": [
    "import json\n"
   ]
  },
  {
   "cell_type": "code",
   "execution_count": 101,
   "metadata": {},
   "outputs": [],
   "source": [
    "def set_default(obj):\n",
    "    if isinstance(obj, set):\n",
    "        return list(obj)\n",
    "    raise TypeError\n"
   ]
  },
  {
   "cell_type": "code",
   "execution_count": 110,
   "metadata": {},
   "outputs": [],
   "source": [
    "result = json.dumps(sample, default=set_default)"
   ]
  },
  {
   "cell_type": "code",
   "execution_count": 116,
   "metadata": {},
   "outputs": [],
   "source": [
    "result = json.loads(result)"
   ]
  },
  {
   "cell_type": "code",
   "execution_count": 119,
   "metadata": {},
   "outputs": [
    {
     "data": {
      "text/plain": [
       "{'accBookRevRecForecastRule': [],\n",
       " 'accountingBook': [],\n",
       " 'accountingBookAmortization': [],\n",
       " 'accountingBookCreatePlansOn': [],\n",
       " 'accountingBookRevRecRule': [],\n",
       " 'accountingBookRevRecSchedule': [],\n",
       " 'allowedShippingMethod': [],\n",
       " 'alternateDemandSourceItem': [],\n",
       " 'assetAccount': [],\n",
       " 'atpLeadTime': [],\n",
       " 'atpMethod': [],\n",
       " 'autoLeadTime': [],\n",
       " 'autoPreferredStockLevel': [],\n",
       " 'autoReorderPoint': [],\n",
       " 'availableToPartners': [],\n",
       " 'averageCost': [],\n",
       " 'backwardConsumptionDays': [],\n",
       " 'basePrice': [{'customLabel': None,\n",
       "   'searchValue': 420.0,\n",
       "   '_raw_elements': 'deque([<Element {urn:core_2019_1.platform.webservices.netsuite.com}customLabel at 0x7f91713d4040>])'}],\n",
       " 'billExchRateVarianceAcct': [],\n",
       " 'billPriceVarianceAcct': [],\n",
       " 'billQtyVarianceAcct': [],\n",
       " 'binNumber': [],\n",
       " 'binOnHandAvail': [],\n",
       " 'binOnHandCount': [],\n",
       " 'bomQuantity': [],\n",
       " 'buildEntireAssembly': [],\n",
       " 'buildTime': [],\n",
       " 'buyItNowPrice': [],\n",
       " 'category': [],\n",
       " 'categoryPreferred': [],\n",
       " 'class': [],\n",
       " 'componentYield': [],\n",
       " 'contingentRevenueHandling': [],\n",
       " 'copyDescription': [],\n",
       " 'correlatedItem': [],\n",
       " 'correlatedItemCorrelation': [],\n",
       " 'correlatedItemCount': [],\n",
       " 'correlatedItemLift': [],\n",
       " 'correlatedItemPurchaseRate': [],\n",
       " 'cost': [{'customLabel': None,\n",
       "   'searchValue': 0.0,\n",
       "   '_raw_elements': 'deque([<Element {urn:core_2019_1.platform.webservices.netsuite.com}customLabel at 0x7f91713af440>])'}],\n",
       " 'costAccountingStatus': [],\n",
       " 'costCategory': [],\n",
       " 'costEstimate': [],\n",
       " 'costEstimateType': [],\n",
       " 'costingMethod': [],\n",
       " 'countryOfManufacture': [],\n",
       " 'created': [],\n",
       " 'createJob': [],\n",
       " 'createRevenuePlansOn': [],\n",
       " 'custReturnVarianceAccount': [],\n",
       " 'dateViewed': [],\n",
       " 'daysBeforeExpiration': [],\n",
       " 'defaultReturnCost': [],\n",
       " 'defaultShippingMethod': [],\n",
       " 'deferredExpenseAccount': [],\n",
       " 'deferredRevenueAccount': [],\n",
       " 'deferRevRec': [],\n",
       " 'demandModifier': [],\n",
       " 'demandSource': [],\n",
       " 'demandTimeFence': [],\n",
       " 'department': [],\n",
       " 'departmentnohierarchy': [],\n",
       " 'directRevenuePosting': [],\n",
       " 'displayIneBayStore': [],\n",
       " 'displayName': [{'customLabel': None,\n",
       "   'searchValue': 'Waterford Lismore Diamond White Wine Glass Set  6',\n",
       "   '_raw_elements': 'deque([<Element {urn:core_2019_1.platform.webservices.netsuite.com}customLabel at 0x7f91713b5f00>])'}],\n",
       " 'distributionCategory': [],\n",
       " 'distributionNetwork': [],\n",
       " 'dontShowPrice': [],\n",
       " 'eBayItemDescription': [],\n",
       " 'eBayItemSubtitle': [],\n",
       " 'eBayItemTitle': [],\n",
       " 'ebayRelistingOption': [],\n",
       " 'effectiveBomControl': [],\n",
       " 'effectiveDate': [],\n",
       " 'effectiveRevision': [],\n",
       " 'endAuctionsWhenOutOfStock': [],\n",
       " 'excludeFromSitemap': [],\n",
       " 'expenseAccount': [],\n",
       " 'externalId': [],\n",
       " 'featuredDescription': [],\n",
       " 'feedDescription': [],\n",
       " 'feedName': [],\n",
       " 'fixedLotSize': [],\n",
       " 'forwardConsumptionDays': [],\n",
       " 'fraudRisk': [],\n",
       " 'froogleProductFeed': [],\n",
       " 'fxCost': [],\n",
       " 'gainLossAccount': [],\n",
       " 'generateAccruals': [],\n",
       " 'giftCertAuthCode': [],\n",
       " 'giftCertEmail': [],\n",
       " 'giftCertExpirationDate': [],\n",
       " 'giftCertFrom': [],\n",
       " 'giftCertMessage': [],\n",
       " 'giftCertOriginalAmount': [],\n",
       " 'giftCertRecipient': [],\n",
       " 'hierarchyNode': [],\n",
       " 'hierarchyVersion': [],\n",
       " 'hits': [],\n",
       " 'imageUrl': [],\n",
       " 'includeChildren': [],\n",
       " 'incomeAccount': [],\n",
       " 'intercoDefRevAccount': [],\n",
       " 'intercoExpenseAccount': [],\n",
       " 'intercoIncomeAccount': [],\n",
       " 'internalId': [{'customLabel': None,\n",
       "   'searchValue': {'name': None,\n",
       "    'internalId': '2206',\n",
       "    'externalId': None,\n",
       "    'type': None}},\n",
       "  {'customLabel': None,\n",
       "   'searchValue': {'name': None,\n",
       "    'internalId': '2206',\n",
       "    'externalId': None,\n",
       "    'type': None},\n",
       "   '_raw_elements': 'deque([<Element {urn:core_2019_1.platform.webservices.netsuite.com}customLabel at 0x7f91713a85c0>])'}],\n",
       " 'inventoryLocation': [],\n",
       " 'invtClassification': [],\n",
       " 'invtCountInterval': [],\n",
       " 'isAvailable': [],\n",
       " 'isDropShipItem': [],\n",
       " 'isFulfillable': [],\n",
       " 'isGcoCompliant': [],\n",
       " 'isInactive': [{'customLabel': None,\n",
       "   'searchValue': True,\n",
       "   '_raw_elements': 'deque([<Element {urn:core_2019_1.platform.webservices.netsuite.com}customLabel at 0x7f917139aa40>])'}],\n",
       " 'isLotItem': [],\n",
       " 'isOnline': [],\n",
       " 'isSerialItem': [],\n",
       " 'isSpecialOrderItem': [],\n",
       " 'isSpecialWorkOrderItem': [],\n",
       " 'isStorePickupAllowed': [],\n",
       " 'issueProduct': [],\n",
       " 'isTaxable': [],\n",
       " 'isVsoeBundle': [],\n",
       " 'isWip': [],\n",
       " 'itemId': [{'customLabel': None,\n",
       "   'searchValue': '- B750731',\n",
       "   '_raw_elements': 'deque([<Element {urn:core_2019_1.platform.webservices.netsuite.com}customLabel at 0x7f9171394dc0>])'}],\n",
       " 'itemRevenueCategory': [],\n",
       " 'itemUrl': [],\n",
       " 'lastInvtCountDate': [],\n",
       " 'lastPurchasePrice': [],\n",
       " 'lastQuantityAvailableChange': [],\n",
       " 'leadTime': [],\n",
       " 'liabilityAccount': [],\n",
       " 'listingDuration': [],\n",
       " 'location': [],\n",
       " 'locationAllowStorePickup': [],\n",
       " 'locationAtpLeadTime': [],\n",
       " 'locationAverageCost': [],\n",
       " 'locationBinQuantityAvailable': [],\n",
       " 'locationBuildTime': [],\n",
       " 'locationCost': [],\n",
       " 'locationCostAccountingStatus': [],\n",
       " 'locationDefaultReturnCost': [],\n",
       " 'locationDemandSource': [],\n",
       " 'locationDemandTimeFence': [],\n",
       " 'locationFixedLotSize': [],\n",
       " 'locationInventoryCostTemplate': [],\n",
       " 'locationInvtClassification': [],\n",
       " 'locationInvtCountInterval': [],\n",
       " 'locationLastInvtCountDate': [],\n",
       " 'locationLeadTime': [],\n",
       " 'locationNextInvtCountDate': [],\n",
       " 'locationPeriodicLotSizeDays': [],\n",
       " 'locationPeriodicLotSizeType': [],\n",
       " 'locationPreferredStockLevel': [],\n",
       " 'locationQtyAvailForStorePickup': [],\n",
       " 'locationQuantityAvailable': [],\n",
       " 'locationQuantityBackOrdered': [],\n",
       " 'locationQuantityCommitted': [],\n",
       " 'locationQuantityInTransit': [],\n",
       " 'locationQuantityOnHand': [],\n",
       " 'locationQuantityOnOrder': [],\n",
       " 'locationReOrderPoint': [],\n",
       " 'locationRescheduleInDays': [],\n",
       " 'locationRescheduleOutDays': [],\n",
       " 'locationSafetyStockLevel': [],\n",
       " 'locationStorePickupBufferStock': [],\n",
       " 'locationSupplyLotSizingMethod': [],\n",
       " 'locationSupplyTimeFence': [],\n",
       " 'locationSupplyType': [],\n",
       " 'locationTotalValue': [],\n",
       " 'locBackwardConsumptionDays': [],\n",
       " 'locForwardConsumptionDays': [],\n",
       " 'manufacturer': [],\n",
       " 'manufacturerAddr1': [],\n",
       " 'manufacturerCity': [],\n",
       " 'manufacturerState': [],\n",
       " 'manufacturerTariff': [],\n",
       " 'manufacturerTaxId': [],\n",
       " 'manufacturerZip': [],\n",
       " 'manufacturingChargeItem': [],\n",
       " 'matchBillToReceipt': [],\n",
       " 'maximumQuantity': [],\n",
       " 'memberItem': [],\n",
       " 'memberQuantity': [],\n",
       " 'metaTagHtml': [],\n",
       " 'minimumQuantity': [],\n",
       " 'modified': [],\n",
       " 'mossApplies': [],\n",
       " 'mpn': [],\n",
       " 'multManufactureAddr': [],\n",
       " 'nextagCategory': [],\n",
       " 'nextagProductFeed': [],\n",
       " 'nextInvtCountDate': [],\n",
       " 'noPriceMessage': [],\n",
       " 'numActiveListings': [],\n",
       " 'numberAllowedDownloads': [],\n",
       " 'numCurrentlyListed': [],\n",
       " 'obsoleteDate': [],\n",
       " 'obsoleteRevision': [],\n",
       " 'offerSupport': [],\n",
       " 'onlineCustomerPrice': [],\n",
       " 'onlinePrice': [],\n",
       " 'onSpecial': [],\n",
       " 'otherPrices': [],\n",
       " 'otherVendor': [],\n",
       " 'outOfStockBehavior': [],\n",
       " 'outOfStockMessage': [],\n",
       " 'overallQuantityPricingType': [],\n",
       " 'overheadType': [],\n",
       " 'pageTitle': [],\n",
       " 'parent': [],\n",
       " 'periodicLotSizeDays': [],\n",
       " 'periodicLotSizeType': [],\n",
       " 'preferenceCriterion': [],\n",
       " 'preferredBin': [],\n",
       " 'preferredLocation': [],\n",
       " 'preferredStockLevel': [],\n",
       " 'preferredStockLevelDays': [],\n",
       " 'pricesIncludeTax': [],\n",
       " 'pricingGroup': [],\n",
       " 'primaryCategory': [],\n",
       " 'prodPriceVarianceAcct': [],\n",
       " 'prodQtyVarianceAcct': [],\n",
       " 'purchaseDescription': [],\n",
       " 'purchaseOrderAmount': [],\n",
       " 'purchaseOrderQuantity': [],\n",
       " 'purchaseOrderQuantityDiff': [],\n",
       " 'purchasePriceVarianceAcct': [],\n",
       " 'purchaseUnit': [],\n",
       " 'quantityAvailable': [],\n",
       " 'quantityBackOrdered': [],\n",
       " 'quantityCommitted': [],\n",
       " 'quantityOnHand': [],\n",
       " 'quantityOnOrder': [],\n",
       " 'quantityPricingSchedule': [],\n",
       " 'receiptAmount': [],\n",
       " 'receiptQuantity': [],\n",
       " 'receiptQuantityDiff': [],\n",
       " 'reorderMultiple': [],\n",
       " 'reOrderPoint': [],\n",
       " 'rescheduleInDays': [],\n",
       " 'rescheduleOutDays': [],\n",
       " 'reservePrice': [],\n",
       " 'revenueAllocationGroup': [],\n",
       " 'revenueRecognitionRule': [],\n",
       " 'revRecForecastRule': [],\n",
       " 'revReclassFXAccount': [],\n",
       " 'revRecSchedule': [],\n",
       " 'roundUpAsComponent': [],\n",
       " 'safetyStockLevel': [],\n",
       " 'safetyStockLevelDays': [],\n",
       " 'salesDescription': [],\n",
       " 'salesTaxCode': [],\n",
       " 'saleUnit': [],\n",
       " 'sameAsPrimaryBookAmortization': [],\n",
       " 'sameAsPrimaryBookRevRec': [],\n",
       " 'scheduleBCode': [],\n",
       " 'scheduleBNumber': [],\n",
       " 'scheduleBQuantity': [],\n",
       " 'scrapAcct': [],\n",
       " 'searchKeywords': [],\n",
       " 'seasonalDemand': [],\n",
       " 'sellOnEBay': [],\n",
       " 'serialNumber': [],\n",
       " 'serialNumberLocation': [],\n",
       " 'shipIndividually': [],\n",
       " 'shipPackage': [],\n",
       " 'shippingCarrier': [],\n",
       " 'shippingRate': [],\n",
       " 'shoppingDotComCategory': [],\n",
       " 'shoppingProductFeed': [],\n",
       " 'shopzillaCategoryId': [],\n",
       " 'shopzillaProductFeed': [],\n",
       " 'sitemapPriority': [],\n",
       " 'softDescriptor': [],\n",
       " 'startingPrice': [],\n",
       " 'stockDescription': [],\n",
       " 'stockUnit': [],\n",
       " 'storeDescription': [],\n",
       " 'storeDetailedDescription': [],\n",
       " 'storeDisplayImage': [],\n",
       " 'storeDisplayName': [],\n",
       " 'storeDisplayThumbnail': [],\n",
       " 'subsidiary': [],\n",
       " 'subType': [],\n",
       " 'supplyLotSizingMethod': [],\n",
       " 'supplyReplenishmentMethod': [],\n",
       " 'supplyTimeFence': [],\n",
       " 'supplyType': [],\n",
       " 'taxSchedule': [],\n",
       " 'thumbNailUrl': [],\n",
       " 'totalValue': [],\n",
       " 'trackLandedCost': [],\n",
       " 'transferPrice': [],\n",
       " 'type': [{'customLabel': None,\n",
       "   'searchValue': '_inventoryItem',\n",
       "   '_raw_elements': 'deque([<Element {urn:core_2019_1.platform.webservices.netsuite.com}customLabel at 0x7f917139f400>])'}],\n",
       " 'unbuildVarianceAccount': [],\n",
       " 'unitsType': [],\n",
       " 'upcCode': [],\n",
       " 'urlComponent': [],\n",
       " 'useBins': [],\n",
       " 'useComponentYield': [],\n",
       " 'useMarginalRates': [],\n",
       " 'vendor': [],\n",
       " 'vendorCode': [],\n",
       " 'vendorCost': [],\n",
       " 'vendorCostEntered': [],\n",
       " 'vendorName': [],\n",
       " 'vendorPriceCurrency': [],\n",
       " 'vendorSchedule': [],\n",
       " 'vendReturnVarianceAccount': [],\n",
       " 'vsoeDeferral': [],\n",
       " 'vsoeDelivered': [],\n",
       " 'vsoePermitDiscount': [],\n",
       " 'vsoePrice': [],\n",
       " 'vsoeSopGroup': [],\n",
       " 'webSite': [],\n",
       " 'weight': [],\n",
       " 'weightUnit': [],\n",
       " 'wipAcct': [],\n",
       " 'wipVarianceAcct': [],\n",
       " 'yahooProductFeed': [],\n",
       " 'customFieldList': {'customField': [{'customLabel': None,\n",
       "    'searchValue': {'name': None,\n",
       "     'internalId': '132',\n",
       "     'externalId': None,\n",
       "     'typeId': '94'},\n",
       "    'internalId': '598',\n",
       "    'scriptId': 'custitem17',\n",
       "    '_raw_elements': 'deque([<Element {urn:core_2019_1.platform.webservices.netsuite.com}customLabel at 0x7f9171385500>])'},\n",
       "   {'customLabel': None,\n",
       "    'searchValue': {'name': None,\n",
       "     'internalId': '42',\n",
       "     'externalId': None,\n",
       "     'typeId': '94'},\n",
       "    'internalId': '593',\n",
       "    'scriptId': 'custitem14',\n",
       "    '_raw_elements': 'deque([<Element {urn:core_2019_1.platform.webservices.netsuite.com}customLabel at 0x7f9171377240>])'}]}}"
      ]
     },
     "execution_count": 119,
     "metadata": {},
     "output_type": "execute_result"
    }
   ],
   "source": [
    "result['data'][0]['basic']"
   ]
  },
  {
   "cell_type": "code",
   "execution_count": 70,
   "metadata": {},
   "outputs": [],
   "source": [
    "def write_list_of_ngram_dicts(list_of_dicts, filename):\n",
    "    with open(filename, 'w', encoding='utf-8') as file:\n",
    "        for dic in list_of_dicts:\n",
    "            data=json.dumps(dic) \n",
    "            file.write(data)\n",
    "            file.write(\"\\n\")"
   ]
  },
  {
   "cell_type": "code",
   "execution_count": 41,
   "metadata": {},
   "outputs": [],
   "source": [
    "dictionary = {\n",
    "    \"totalRecords\" : result.totalRecords,\n",
    "    'searchId': result.searchId,\n",
    "    \"searchRowList\" : result.searchRowList.searchRow\n",
    "}"
   ]
  },
  {
   "cell_type": "code",
   "execution_count": 76,
   "metadata": {},
   "outputs": [
    {
     "ename": "NameError",
     "evalue": "name 'deque' is not defined",
     "output_type": "error",
     "traceback": [
      "\u001b[0;31m---------------------------------------------------------------------------\u001b[0m",
      "\u001b[0;31mNameError\u001b[0m                                 Traceback (most recent call last)",
      "\u001b[1;32m/Users/sasanakongjareon/Work/Gumps/Current_Dev/gid20/upload_db/gumps_git/Netsuite_SDK/netsuite-sdk-py/test.ipynb Cell 16'\u001b[0m in \u001b[0;36m<cell line: 1>\u001b[0;34m()\u001b[0m\n\u001b[0;32m----> <a href='vscode-notebook-cell:/Users/sasanakongjareon/Work/Gumps/Current_Dev/gid20/upload_db/gumps_git/Netsuite_SDK/netsuite-sdk-py/test.ipynb#ch0000043?line=0'>1</a>\u001b[0m deque\n",
      "\u001b[0;31mNameError\u001b[0m: name 'deque' is not defined"
     ]
    }
   ],
   "source": [
    "deque"
   ]
  },
  {
   "cell_type": "code",
   "execution_count": 108,
   "metadata": {},
   "outputs": [
    {
     "ename": "AttributeError",
     "evalue": "'str' object has no attribute 'searchRowList'",
     "output_type": "error",
     "traceback": [
      "\u001b[0;31m---------------------------------------------------------------------------\u001b[0m",
      "\u001b[0;31mAttributeError\u001b[0m                            Traceback (most recent call last)",
      "\u001b[1;32m/Users/sasanakongjareon/Work/Gumps/Current_Dev/gid20/upload_db/gumps_git/Netsuite_SDK/netsuite-sdk-py/test.ipynb Cell 18'\u001b[0m in \u001b[0;36m<cell line: 1>\u001b[0;34m()\u001b[0m\n\u001b[0;32m----> <a href='vscode-notebook-cell:/Users/sasanakongjareon/Work/Gumps/Current_Dev/gid20/upload_db/gumps_git/Netsuite_SDK/netsuite-sdk-py/test.ipynb#ch0000042?line=0'>1</a>\u001b[0m result\u001b[39m.\u001b[39;49msearchRowList\u001b[39m.\u001b[39msearchRow\n",
      "\u001b[0;31mAttributeError\u001b[0m: 'str' object has no attribute 'searchRowList'"
     ]
    }
   ],
   "source": [
    "result.searchRowList.searchRow"
   ]
  },
  {
   "cell_type": "code",
   "execution_count": 107,
   "metadata": {},
   "outputs": [
    {
     "ename": "AttributeError",
     "evalue": "'str' object has no attribute 'searchRowList'",
     "output_type": "error",
     "traceback": [
      "\u001b[0;31m---------------------------------------------------------------------------\u001b[0m",
      "\u001b[0;31mAttributeError\u001b[0m                            Traceback (most recent call last)",
      "\u001b[1;32m/Users/sasanakongjareon/Work/Gumps/Current_Dev/gid20/upload_db/gumps_git/Netsuite_SDK/netsuite-sdk-py/test.ipynb Cell 19'\u001b[0m in \u001b[0;36m<cell line: 3>\u001b[0;34m()\u001b[0m\n\u001b[1;32m      <a href='vscode-notebook-cell:/Users/sasanakongjareon/Work/Gumps/Current_Dev/gid20/upload_db/gumps_git/Netsuite_SDK/netsuite-sdk-py/test.ipynb#ch0000040?line=0'>1</a>\u001b[0m \u001b[39mfrom\u001b[39;00m \u001b[39mzeep\u001b[39;00m \u001b[39mimport\u001b[39;00m helpers\n\u001b[0;32m----> <a href='vscode-notebook-cell:/Users/sasanakongjareon/Work/Gumps/Current_Dev/gid20/upload_db/gumps_git/Netsuite_SDK/netsuite-sdk-py/test.ipynb#ch0000040?line=2'>3</a>\u001b[0m _json \u001b[39m=\u001b[39m helpers\u001b[39m.\u001b[39mserialize_object(result\u001b[39m.\u001b[39;49msearchRowList\u001b[39m.\u001b[39msearchRow, \u001b[39mdict\u001b[39m)\n",
      "\u001b[0;31mAttributeError\u001b[0m: 'str' object has no attribute 'searchRowList'"
     ]
    }
   ],
   "source": [
    "from zeep import helpers\n",
    "\n",
    "_json = helpers.serialize_object(result.searchRowList.searchRow, dict)"
   ]
  },
  {
   "cell_type": "code",
   "execution_count": 93,
   "metadata": {},
   "outputs": [],
   "source": [
    "deque2 = result.searchRowList.searchRow[0]['basic']['basePrice'][0]['_raw_elements']"
   ]
  },
  {
   "cell_type": "code",
   "execution_count": 92,
   "metadata": {},
   "outputs": [],
   "source": [
    "from collections import deque"
   ]
  },
  {
   "cell_type": "code",
   "execution_count": 105,
   "metadata": {},
   "outputs": [],
   "source": [
    "def set_default(obj):\n",
    "    if isinstance(obj, deque):\n",
    "        return str(obj)\n",
    "    raise TypeError\n"
   ]
  },
  {
   "cell_type": "code",
   "execution_count": 106,
   "metadata": {},
   "outputs": [
    {
     "data": {
      "text/plain": [
       "'deque([<Element {urn:core_2019_1.platform.webservices.netsuite.com}customLabel at 0x7f91713d4040>])'"
      ]
     },
     "execution_count": 106,
     "metadata": {},
     "output_type": "execute_result"
    }
   ],
   "source": [
    "set_default()"
   ]
  },
  {
   "cell_type": "code",
   "execution_count": null,
   "metadata": {},
   "outputs": [],
   "source": [
    "connection.client.searchMoreWithId('WEBSERVICES_4828879_082520227264760231986855303_4f2238dc28a1', 17)\n"
   ]
  },
  {
   "cell_type": "code",
   "execution_count": null,
   "metadata": {},
   "outputs": [],
   "source": [
    "itemsearchrow = result.searchRowList.searchRow[0]['basic']"
   ]
  },
  {
   "cell_type": "code",
   "execution_count": null,
   "metadata": {},
   "outputs": [],
   "source": []
  },
  {
   "cell_type": "code",
   "execution_count": null,
   "metadata": {},
   "outputs": [],
   "source": [
    "for object_key in list(itemsearchrow.__values__.keys()):\n",
    "    if itemsearchrow[object_key] != []:\n",
    "        \n",
    "        if object_key == 'internalId':\n",
    "            print(object_key)\n",
    "            print(itemsearchrow[object_key][0]['searchValue']['internalId'])\n",
    "        elif object_key == 'customFieldList':\n",
    "            pass\n",
    "        else:\n",
    "            print(object_key)\n",
    "            print(itemsearchrow[object_key][0]['searchValue'])"
   ]
  },
  {
   "cell_type": "code",
   "execution_count": 172,
   "metadata": {},
   "outputs": [],
   "source": [
    "import csv \n",
    "def get_headers(result):\n",
    "    itemsearchrow = result.searchRowList.searchRow[0]['basic']\n",
    "    headers = []\n",
    "    for object_key in list(itemsearchrow.__values__.keys()):\n",
    "        if itemsearchrow[object_key] != []:\n",
    "            headers.append(object_key)\n",
    "    return headers \n",
    "    \n",
    "def extract_data(result, header):\n",
    "    data = []\n",
    "    search_id = result.searchId\n",
    "    total_page = result.totalPages\n",
    "    record_size = result.totalRecords\n",
    "    #pagination\n",
    "    for i in progressbar(range(1, total_page+1), \"Computing: \", 40):\n",
    "\n",
    "        page_data = connection.client.searchMoreWithId(search_id, i)\n",
    "        page_size = len(page_data.searchRowList.searchRow)\n",
    "        for page_idx in range(page_size):\n",
    "            row = []\n",
    "            itemsearchrow = page_data.searchRowList.searchRow[page_idx]['basic']\n",
    "            for object_key in header:\n",
    "                if itemsearchrow[object_key] != []:\n",
    "                \n",
    "                    if object_key == 'internalId':\n",
    "\n",
    "                        row.append(itemsearchrow[object_key][0]['searchValue']['internalId'])\n",
    "                    elif object_key == 'customFieldList':\n",
    "                        row.append('')\n",
    "                    else:\n",
    "                        row.append(itemsearchrow[object_key][0]['searchValue'])\n",
    "                else:\n",
    "                    row.append('')\n",
    "            data.append(row)\n",
    "    return data\n",
    "    \n",
    "def return_result(conn, save_search_id:str, save_search_script_id:str):\n",
    "    \"\"\"_summary_\n",
    "\n",
    "    Args:\n",
    "        conn (_type_): _description_\n",
    "        save_search_id (str): _description_\n",
    "        save_search_script_id (str): _description_\n",
    "\n",
    "    Returns:\n",
    "        _type_: _description_\n",
    "    \"\"\"\n",
    "    # generate save search record\n",
    "    itemsearchrecord = conn.client.search_factory_adv('Item')\n",
    "    itemsearchrecord.savedSearchId = save_search_id\n",
    "    itemsearchrecord.savedSearchScriptId = save_search_script_id\n",
    "\n",
    "    # query first pages of results\n",
    "    result = connection.client.search(itemsearchrecord)\n",
    "    search_id = result.searchId\n",
    "    total_page = result.totalPages\n",
    "\n",
    "    # query non pages\n",
    "    if total_page > 1:\n",
    "        for i in range(1, total_page+1):\n",
    "            page_data = connection.client.searchMoreWithId(search_id, i)\n",
    "            if i ==1:\n",
    "                pass\n",
    "            else:\n",
    "                result.searchRowList.searchRow = result.searchRowList.searchRow + page_data.searchRowList.searchRow\n",
    "    result.totalRecords = len(result.searchRowList.searchRow)\n",
    "    return result\n",
    "\n",
    "def return_csv(header, data, name='test.csv'):\n",
    "\n",
    "    with open(name, 'w', encoding='UTF8', newline='') as f:\n",
    "        writer = csv.writer(f)\n",
    "\n",
    "        # write the header\n",
    "        writer.writerow(header)\n",
    "\n",
    "        # write multiple rows\n",
    "        writer.writerows(data)\n",
    "    return f'done check {name}'"
   ]
  },
  {
   "cell_type": "code",
   "execution_count": 173,
   "metadata": {},
   "outputs": [
    {
     "data": {
      "text/plain": [
       "{'criteria': None,\n",
       " 'columns': None,\n",
       " 'savedSearchId': '1509',\n",
       " 'savedSearchScriptId': 'customsearch_gumps_ccc_item_export_3'}"
      ]
     },
     "execution_count": 173,
     "metadata": {},
     "output_type": "execute_result"
    }
   ],
   "source": [
    "{\n",
    "    'criteria': None,\n",
    "    'columns': None,\n",
    "    'savedSearchId': '1509',\n",
    "    'savedSearchScriptId': 'customsearch_gumps_ccc_item_export_3'\n",
    "}"
   ]
  },
  {
   "cell_type": "code",
   "execution_count": 170,
   "metadata": {},
   "outputs": [],
   "source": [
    "header = get_headers(result)\n",
    "data = return_result(connection, save_search_id='1509', save_search_script_id= 'customsearch_gumps_ccc_item_export_3' )"
   ]
  },
  {
   "cell_type": "code",
   "execution_count": 174,
   "metadata": {},
   "outputs": [],
   "source": [
    "data"
   ]
  },
  {
   "cell_type": "code",
   "execution_count": null,
   "metadata": {},
   "outputs": [
    {
     "data": {
      "text/plain": [
       "1453"
      ]
     },
     "execution_count": 157,
     "metadata": {},
     "output_type": "execute_result"
    }
   ],
   "source": [
    "import json\n",
    "json.load(data)"
   ]
  },
  {
   "cell_type": "code",
   "execution_count": null,
   "metadata": {},
   "outputs": [],
   "source": [
    "for i in range(1, result.totalPages+1):\n",
    "    page_data = connection.client.searchMoreWithId('WEBSERVICES_4828879_082520227264760231986855303_4f2238dc28a1', i)\n",
    "    row = []\n",
    "    itemsearchrow = page_data.searchRowList.searchRow[i]['basic']\n",
    "    for object_key in header:\n",
    "        if itemsearchrow[object_key] != []:\n",
    "            \n",
    "            if object_key == 'internalId':\n",
    "\n",
    "                row.append(itemsearchrow[object_key][0]['searchValue']['internalId'])\n",
    "            elif object_key == 'customFieldList':\n",
    "                row.append('')\n",
    "            else:\n",
    "                row.append(itemsearchrow[object_key][0]['searchValue'])\n",
    "    data.append(row)"
   ]
  },
  {
   "cell_type": "code",
   "execution_count": null,
   "metadata": {},
   "outputs": [],
   "source": [
    "itemsearchrow[object_key]"
   ]
  },
  {
   "cell_type": "code",
   "execution_count": null,
   "metadata": {},
   "outputs": [],
   "source": []
  }
 ],
 "metadata": {
  "interpreter": {
   "hash": "45e3f66bb17e8a467f9c80c39102b473ee6484e8906086d365da68336b04fc17"
  },
  "kernelspec": {
   "display_name": "Python 3.9.12 ('gumps')",
   "language": "python",
   "name": "python3"
  },
  "language_info": {
   "codemirror_mode": {
    "name": "ipython",
    "version": 3
   },
   "file_extension": ".py",
   "mimetype": "text/x-python",
   "name": "python",
   "nbconvert_exporter": "python",
   "pygments_lexer": "ipython3",
   "version": "3.9.12"
  },
  "orig_nbformat": 4
 },
 "nbformat": 4,
 "nbformat_minor": 2
}
