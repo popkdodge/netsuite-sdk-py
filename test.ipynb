{
 "cells": [
  {
   "cell_type": "code",
   "execution_count": null,
   "metadata": {},
   "outputs": [],
   "source": [
    "from netsuitesdk2 import NetSuiteConnection\n",
    "import json"
   ]
  },
  {
   "cell_type": "code",
   "execution_count": null,
   "metadata": {},
   "outputs": [],
   "source": [
    "#Import Secrets\n",
    "\n",
    "get_secrets = '{\"NS_CONSUMER_KEY\": \"7f7442e79f25ffbd513166ffdd2c5c5db8077c73fbadd96cb3b3ed54643d420d\", \"NS_CONSUMER_SECRET\": \"a00604560403b093cc79fd88ffce2c9032fdc10f74f036c045298b383aa4a546\", \"NS_TOKEN_ID\": \"c521d3cb754d13189d9bf661a00729d5276c639f7101313a1c4b85e81682409b\", \"NS_TOKEN_SECRET\": \"3926130a8688b4512160676c36e5a33d64b92731302b484ba7c7cf8dcec16c96\", \"NETSUITE_ACCOUNT_ID\": \"4828879\", \"TEST_CONSUMER_KEY\": \"8b26283535c09ac458b294e405c6522be1679ad162128b0a8715515de086ac2c\", \"TEST_CONSUMER_SECRET\": \"ee74126313f614307c29516c877aef8dcc71660ce632158e9554a94aba3a1b9d\", \"TEST_TOKEN_ID\": \"003500b18b9714930c22dc7181469b02c1eebee8d593e26c1aada5ee4741aabb\", \"TEST_TOKEN_SECRET\": \"f378999dfc0506bfe1403e2e4443be4ba3322feb122e79981a23292859431675\", \"TEST_ACCOUNT_ID\": \"4828879_SB1\"}'\n",
    "\n",
    "\n",
    "secrets = json.loads(get_secrets)\n",
    "\n",
    "# Production\n",
    "NS_CONSUMER_KEY = secrets['NS_CONSUMER_KEY']\n",
    "NS_CONSUMER_SECRET = secrets['NS_CONSUMER_SECRET']\n",
    "NS_TOKEN_ID = secrets['NS_TOKEN_ID']\n",
    "NS_TOKEN_SECRET = secrets['NS_TOKEN_SECRET']\n",
    "NETSUITE_ACCOUNT_ID = secrets['NETSUITE_ACCOUNT_ID']\n",
    "\n",
    "# Sandbox\n",
    "TEST_CONSUMER_KEY = secrets['TEST_CONSUMER_KEY']\n",
    "TEST_CONSUMER_SECRET = secrets['TEST_CONSUMER_SECRET']\n",
    "TEST_TOKEN_ID = secrets['TEST_TOKEN_ID']\n",
    "TEST_TOKEN_SECRET = secrets['TEST_TOKEN_SECRET']\n",
    "TEST_ACCOUNT_ID = secrets['TEST_ACCOUNT_ID']\n",
    "\n",
    "\n",
    "def connect(modes: str):\n",
    "    if modes.lower() == 'test':\n",
    "\n",
    "        nc = NetSuiteConnection(\n",
    "        account=TEST_ACCOUNT_ID,\n",
    "        consumer_key=TEST_CONSUMER_KEY,\n",
    "        consumer_secret=TEST_CONSUMER_SECRET,\n",
    "        token_key=TEST_TOKEN_ID,\n",
    "        token_secret=TEST_TOKEN_SECRET,\n",
    "        caching=False\n",
    "        )\n",
    "        try:\n",
    "            return nc\n",
    "        except:\n",
    "            return \"Connection Failed :(\"\n",
    "\n",
    "    elif modes.lower() == 'production':\n",
    "\n",
    "        nc = NetSuiteConnection(\n",
    "            account=NETSUITE_ACCOUNT_ID,\n",
    "            consumer_key=NS_CONSUMER_KEY,\n",
    "            consumer_secret=NS_CONSUMER_SECRET,\n",
    "            token_key=NS_TOKEN_ID,\n",
    "            token_secret=NS_TOKEN_SECRET,\n",
    "            caching=False\n",
    "        )\n",
    "        \n",
    "        try:\n",
    "            return nc\n",
    "\n",
    "        except:\n",
    "            return \"Connection Failed :(\"\n",
    "\n",
    "    else:\n",
    "        return \"Invalid modes selection! Choose either 'production' or 'test'.\"\n",
    "\n",
    "    return \"Something went wrong. Try again.\""
   ]
  },
  {
   "cell_type": "code",
   "execution_count": 145,
   "metadata": {},
   "outputs": [],
   "source": [
    "connection = connect('PRODUCTION')"
   ]
  },
  {
   "cell_type": "code",
   "execution_count": 146,
   "metadata": {},
   "outputs": [],
   "source": [
    "connection.client.set_search_preferences(page_size=1000)"
   ]
  },
  {
   "cell_type": "code",
   "execution_count": 147,
   "metadata": {},
   "outputs": [],
   "source": [
    "itemsearchrecord = connection.client.search_factory_adv('Item')"
   ]
  },
  {
   "cell_type": "code",
   "execution_count": 148,
   "metadata": {},
   "outputs": [],
   "source": [
    "itemsearchrecord.savedSearchId = '1509'"
   ]
  },
  {
   "cell_type": "code",
   "execution_count": 149,
   "metadata": {},
   "outputs": [],
   "source": [
    "itemsearchrecord.savedSearchScriptId='customsearch_gumps_ccc_item_export_3'"
   ]
  },
  {
   "cell_type": "code",
   "execution_count": 150,
   "metadata": {},
   "outputs": [
    {
     "data": {
      "text/plain": [
       "{\n",
       "    'criteria': None,\n",
       "    'columns': None,\n",
       "    'savedSearchId': '1509',\n",
       "    'savedSearchScriptId': 'customsearch_gumps_ccc_item_export_3'\n",
       "}"
      ]
     },
     "execution_count": 150,
     "metadata": {},
     "output_type": "execute_result"
    }
   ],
   "source": [
    "itemsearchrecord"
   ]
  },
  {
   "cell_type": "code",
   "execution_count": 151,
   "metadata": {},
   "outputs": [],
   "source": [
    "result = connection.client.search(itemsearchrecord)"
   ]
  },
  {
   "cell_type": "code",
   "execution_count": 152,
   "metadata": {},
   "outputs": [
    {
     "data": {
      "text/plain": [
       "'WEBSERVICES_4828879_08262022640937831316712855_1cadee888309f'"
      ]
     },
     "execution_count": 152,
     "metadata": {},
     "output_type": "execute_result"
    }
   ],
   "source": [
    "result.searchId"
   ]
  },
  {
   "cell_type": "code",
   "execution_count": 142,
   "metadata": {},
   "outputs": [],
   "source": [
    "result.searchRowList.searchRow = []"
   ]
  },
  {
   "cell_type": "code",
   "execution_count": 143,
   "metadata": {},
   "outputs": [
    {
     "data": {
      "text/plain": [
       "[]"
      ]
     },
     "execution_count": 143,
     "metadata": {},
     "output_type": "execute_result"
    }
   ],
   "source": [
    "result.searchRowList.searchRow"
   ]
  },
  {
   "cell_type": "code",
   "execution_count": null,
   "metadata": {},
   "outputs": [],
   "source": [
    "result.totalPages"
   ]
  },
  {
   "cell_type": "code",
   "execution_count": null,
   "metadata": {},
   "outputs": [],
   "source": [
    "connection.client.searchMoreWithId('WEBSERVICES_4828879_082520227264760231986855303_4f2238dc28a1', 17)\n"
   ]
  },
  {
   "cell_type": "code",
   "execution_count": null,
   "metadata": {},
   "outputs": [],
   "source": [
    "itemsearchrow = result.searchRowList.searchRow[0]['basic']"
   ]
  },
  {
   "cell_type": "code",
   "execution_count": null,
   "metadata": {},
   "outputs": [],
   "source": []
  },
  {
   "cell_type": "code",
   "execution_count": null,
   "metadata": {},
   "outputs": [],
   "source": [
    "for object_key in list(itemsearchrow.__values__.keys()):\n",
    "    if itemsearchrow[object_key] != []:\n",
    "        \n",
    "        if object_key == 'internalId':\n",
    "            print(object_key)\n",
    "            print(itemsearchrow[object_key][0]['searchValue']['internalId'])\n",
    "        elif object_key == 'customFieldList':\n",
    "            pass\n",
    "        else:\n",
    "            print(object_key)\n",
    "            print(itemsearchrow[object_key][0]['searchValue'])"
   ]
  },
  {
   "cell_type": "code",
   "execution_count": 144,
   "metadata": {},
   "outputs": [],
   "source": [
    "import csv \n",
    "def get_headers(result):\n",
    "    itemsearchrow = result.searchRowList.searchRow[0]['basic']\n",
    "    headers = []\n",
    "    for object_key in list(itemsearchrow.__values__.keys()):\n",
    "        if itemsearchrow[object_key] != []:\n",
    "            headers.append(object_key)\n",
    "    return headers \n",
    "    \n",
    "def extract_data(result, header):\n",
    "    data = []\n",
    "    search_id = result.searchId\n",
    "    total_page = result.totalPages\n",
    "    record_size = result.totalRecords\n",
    "    #pagination\n",
    "    for i in progressbar(range(1, total_page+1), \"Computing: \", 40):\n",
    "\n",
    "        page_data = connection.client.searchMoreWithId(search_id, i)\n",
    "        page_size = len(page_data.searchRowList.searchRow)\n",
    "        for page_idx in range(page_size):\n",
    "            row = []\n",
    "            itemsearchrow = page_data.searchRowList.searchRow[page_idx]['basic']\n",
    "            for object_key in header:\n",
    "                if itemsearchrow[object_key] != []:\n",
    "                \n",
    "                    if object_key == 'internalId':\n",
    "\n",
    "                        row.append(itemsearchrow[object_key][0]['searchValue']['internalId'])\n",
    "                    elif object_key == 'customFieldList':\n",
    "                        row.append('')\n",
    "                    else:\n",
    "                        row.append(itemsearchrow[object_key][0]['searchValue'])\n",
    "                else:\n",
    "                    row.append('')\n",
    "            data.append(row)\n",
    "    return data\n",
    "    \n",
    "def save_result(conn, save_search_id:str, save_search_script_id:str):\n",
    "    \"\"\"_summary_\n",
    "\n",
    "    Args:\n",
    "        conn (_type_): _description_\n",
    "        save_search_id (str): _description_\n",
    "        save_search_script_id (str): _description_\n",
    "\n",
    "    Returns:\n",
    "        _type_: _description_\n",
    "    \"\"\"\n",
    "    # generate save search record\n",
    "    itemsearchrecord = conn.client.search_factory_adv('Item')\n",
    "    itemsearchrecord.savedSearchId = save_search_id\n",
    "    itemsearchrecord.savedSearchScriptId = save_search_script_id\n",
    "\n",
    "    # query first pages of results\n",
    "    result = connection.client.search(itemsearchrecord)\n",
    "    search_id = result.searchId\n",
    "    total_page = result.totalPages\n",
    "\n",
    "    # query non pages\n",
    "    if total_page > 1:\n",
    "        for i in range(1, total_page+1):\n",
    "            page_data = connection.client.searchMoreWithId(search_id, i)\n",
    "        result.searchRowList.searchRow = result.searchRowList.searchRow + page_data.searchRowList.searchRow\n",
    "    \n",
    "    return result\n",
    "\n",
    "def return_csv(header, data, name='test.csv'):\n",
    "\n",
    "    with open(name, 'w', encoding='UTF8', newline='') as f:\n",
    "        writer = csv.writer(f)\n",
    "\n",
    "        # write the header\n",
    "        writer.writerow(header)\n",
    "\n",
    "        # write multiple rows\n",
    "        writer.writerows(data)\n",
    "    return f'done check {name}'"
   ]
  },
  {
   "cell_type": "code",
   "execution_count": null,
   "metadata": {},
   "outputs": [],
   "source": [
    "header = get_headers(result)\n",
    "data = extract_data(result, header)"
   ]
  },
  {
   "cell_type": "code",
   "execution_count": null,
   "metadata": {},
   "outputs": [],
   "source": [
    "return_csv(header, data)"
   ]
  },
  {
   "cell_type": "code",
   "execution_count": null,
   "metadata": {},
   "outputs": [],
   "source": [
    "len(data)"
   ]
  },
  {
   "cell_type": "code",
   "execution_count": null,
   "metadata": {},
   "outputs": [],
   "source": [
    "for i in range(1, result.totalPages+1):\n",
    "    page_data = connection.client.searchMoreWithId('WEBSERVICES_4828879_082520227264760231986855303_4f2238dc28a1', i)\n",
    "    row = []\n",
    "    itemsearchrow = page_data.searchRowList.searchRow[i]['basic']\n",
    "    for object_key in header:\n",
    "        if itemsearchrow[object_key] != []:\n",
    "            \n",
    "            if object_key == 'internalId':\n",
    "\n",
    "                row.append(itemsearchrow[object_key][0]['searchValue']['internalId'])\n",
    "            elif object_key == 'customFieldList':\n",
    "                row.append('')\n",
    "            else:\n",
    "                row.append(itemsearchrow[object_key][0]['searchValue'])\n",
    "    data.append(row)"
   ]
  },
  {
   "cell_type": "code",
   "execution_count": null,
   "metadata": {},
   "outputs": [],
   "source": [
    "itemsearchrow[object_key]"
   ]
  },
  {
   "cell_type": "code",
   "execution_count": null,
   "metadata": {},
   "outputs": [],
   "source": []
  }
 ],
 "metadata": {
  "interpreter": {
   "hash": "45e3f66bb17e8a467f9c80c39102b473ee6484e8906086d365da68336b04fc17"
  },
  "kernelspec": {
   "display_name": "Python 3.9.12 ('gumps')",
   "language": "python",
   "name": "python3"
  },
  "language_info": {
   "codemirror_mode": {
    "name": "ipython",
    "version": 3
   },
   "file_extension": ".py",
   "mimetype": "text/x-python",
   "name": "python",
   "nbconvert_exporter": "python",
   "pygments_lexer": "ipython3",
   "version": "3.9.12"
  },
  "orig_nbformat": 4
 },
 "nbformat": 4,
 "nbformat_minor": 2
}
